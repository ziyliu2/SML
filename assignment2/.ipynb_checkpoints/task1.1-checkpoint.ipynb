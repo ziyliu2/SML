{
 "cells": [
  {
   "cell_type": "code",
   "execution_count": 91,
   "metadata": {},
   "outputs": [
    {
     "ename": "ModuleNotFoundError",
     "evalue": "No module named 'tensorflow'",
     "output_type": "error",
     "traceback": [
      "\u001b[1;31m---------------------------------------------------------------------------\u001b[0m",
      "\u001b[1;31mModuleNotFoundError\u001b[0m                       Traceback (most recent call last)",
      "\u001b[1;32m<ipython-input-91-8d21caa74dc2>\u001b[0m in \u001b[0;36m<module>\u001b[1;34m\u001b[0m\n\u001b[0;32m      1\u001b[0m \u001b[1;32mimport\u001b[0m \u001b[0mnumpy\u001b[0m \u001b[1;32mas\u001b[0m \u001b[0mnp\u001b[0m\u001b[1;33m\u001b[0m\u001b[1;33m\u001b[0m\u001b[0m\n\u001b[0;32m      2\u001b[0m \u001b[1;32mimport\u001b[0m \u001b[0mcsv\u001b[0m\u001b[1;33m\u001b[0m\u001b[1;33m\u001b[0m\u001b[0m\n\u001b[1;32m----> 3\u001b[1;33m \u001b[1;32mimport\u001b[0m \u001b[0mtensorflow\u001b[0m \u001b[1;32mas\u001b[0m \u001b[0mtf\u001b[0m\u001b[1;33m\u001b[0m\u001b[1;33m\u001b[0m\u001b[0m\n\u001b[0m\u001b[0;32m      4\u001b[0m \u001b[1;32mimport\u001b[0m \u001b[0mrandom\u001b[0m\u001b[1;33m\u001b[0m\u001b[1;33m\u001b[0m\u001b[0m\n",
      "\u001b[1;31mModuleNotFoundError\u001b[0m: No module named 'tensorflow'"
     ]
    }
   ],
   "source": [
    "import numpy as np\n",
    "import csv\n",
    "import tensorflow as tf\n",
    "import random"
   ]
  },
  {
   "cell_type": "code",
   "execution_count": 70,
   "metadata": {},
   "outputs": [],
   "source": [
    "male_data = []\n",
    "with open('MALE.csv') as csvfile:\n",
    "    csv_reader = csv.reader(csvfile)  \n",
    "    male_header = next(csv_reader)  \n",
    "    for row in csv_reader: \n",
    "        male_data.append(row)\n",
    "        \n",
    "female_data = []\n",
    "with open('FEMALE.csv') as csvfile:\n",
    "    csv_reader = csv.reader(csvfile)  \n",
    "    female_header = next(csv_reader)  \n",
    "    for row in csv_reader: \n",
    "        female_data.append(row)\n",
    "        \n",
    "mixed_data = []\n",
    "with open('MIXED.csv') as csvfile:\n",
    "    csv_reader = csv.reader(csvfile)  \n",
    "    mixed_header = next(csv_reader)  \n",
    "    for row in csv_reader: \n",
    "        mixed_data.append(row)\n",
    "        \n",
    "male_data = [[int(a) for a in row] for row in male_data]\n",
    "female_data = [[int(b) for b in row] for row in female_data]\n",
    "mixed_data = [[int(c) for c in row] for row in mixed_data]"
   ]
  },
  {
   "cell_type": "code",
   "execution_count": 71,
   "metadata": {},
   "outputs": [
    {
     "name": "stdout",
     "output_type": "stream",
     "text": [
      "[1, 24, 21, 3, 1, 2, 12]\n"
     ]
    }
   ],
   "source": [
    "print(male_data[1])"
   ]
  },
  {
   "cell_type": "code",
   "execution_count": 72,
   "metadata": {},
   "outputs": [],
   "source": [
    "# shuffle dataset\n",
    "random.shuffle(male_data)\n",
    "random.shuffle(female_data)\n",
    "random.shuffle(mixed_data)"
   ]
  },
  {
   "cell_type": "code",
   "execution_count": 73,
   "metadata": {},
   "outputs": [
    {
     "name": "stdout",
     "output_type": "stream",
     "text": [
      "[1, 39, 27, 2, 1, 2, 41]\n"
     ]
    }
   ],
   "source": [
    "print(female_data[1])"
   ]
  },
  {
   "cell_type": "code",
   "execution_count": 74,
   "metadata": {},
   "outputs": [],
   "source": [
    "# get score(label)\n",
    "male_score = []\n",
    "for e in male_data:\n",
    "    male_score.append(e[6])\n",
    "    del e[6]\n",
    "    \n",
    "female_score = []\n",
    "for e in female_data:\n",
    "    female_score.append(e[6])\n",
    "    del e[6]\n",
    "    \n",
    "mixed_score = []\n",
    "for e in mixed_data:\n",
    "    mixed_score.append(e[6])\n",
    "    del e[6]"
   ]
  },
  {
   "cell_type": "code",
   "execution_count": 56,
   "metadata": {},
   "outputs": [
    {
     "data": {
      "text/plain": [
       "int"
      ]
     },
     "execution_count": 56,
     "metadata": {},
     "output_type": "execute_result"
    }
   ],
   "source": [
    "type(male_score[1])"
   ]
  },
  {
   "cell_type": "code",
   "execution_count": 75,
   "metadata": {},
   "outputs": [
    {
     "name": "stdout",
     "output_type": "stream",
     "text": [
      "(4404, 6)\n",
      "(7,)\n"
     ]
    }
   ],
   "source": [
    "female_data = np.array(female_data) \n",
    "female_header = np.array(female_header)\n",
    "female_score = np.array(female_score)\n",
    "print(female_data.shape) \n",
    "print(female_header.shape)"
   ]
  },
  {
   "cell_type": "code",
   "execution_count": 76,
   "metadata": {},
   "outputs": [
    {
     "name": "stdout",
     "output_type": "stream",
     "text": [
      "(3654, 6)\n",
      "(7,)\n"
     ]
    }
   ],
   "source": [
    "male_data = np.array(male_data) \n",
    "male_header = np.array(male_header)\n",
    "male_score = np.array(male_score)\n",
    "print(male_data.shape) \n",
    "print(male_header.shape)"
   ]
  },
  {
   "cell_type": "code",
   "execution_count": 77,
   "metadata": {},
   "outputs": [
    {
     "data": {
      "text/plain": [
       "numpy.ndarray"
      ]
     },
     "execution_count": 77,
     "metadata": {},
     "output_type": "execute_result"
    }
   ],
   "source": [
    "type(female_data)"
   ]
  },
  {
   "cell_type": "code",
   "execution_count": 78,
   "metadata": {},
   "outputs": [
    {
     "name": "stdout",
     "output_type": "stream",
     "text": [
      "(7289, 6)\n",
      "(7,)\n"
     ]
    }
   ],
   "source": [
    "mixed_data = np.array(mixed_data) \n",
    "mixed_header = np.array(mixed_header)\n",
    "mixed_score = np.array(mixed_score)\n",
    "print(mixed_data.shape) \n",
    "print(mixed_header.shape)"
   ]
  },
  {
   "cell_type": "code",
   "execution_count": 82,
   "metadata": {},
   "outputs": [],
   "source": [
    "# divide train, dev and test set\n",
    "test_male_data_x = male_data[:100]\n",
    "dev_male_data_x = male_data[100:200]\n",
    "train_male_data_x = male_data[200:]\n",
    "\n",
    "test_male_data_y = male_score[:100]\n",
    "dev_male_data_y = male_score[100:200]\n",
    "train_male_data_y = male_score[200:]\n",
    "\n",
    "test_female_data_x = new_male_data[:100]\n",
    "dev_female_data_x = new_male_data[100:200]\n",
    "train_female_data_x = new_male_data[200:]\n",
    "\n",
    "test_female_data_y = female_score[:100]\n",
    "dev_female_data_y = female_score[100:200]\n",
    "train_female_data_y = female_score[200:]\n",
    "\n",
    "test_mixed_data_x = mixed_data[:100]\n",
    "dev_mixed_data_x = mixed_data[100:200]\n",
    "train_mixed_data_x = mixed_data[200:]\n",
    "\n",
    "test_mixed_data_y = mixed_score[:100]\n",
    "dev_mixed_data_y = mixed_score[100:200]\n",
    "train_mixed_data_y = mixed_score[200:]"
   ]
  },
  {
   "cell_type": "code",
   "execution_count": 85,
   "metadata": {},
   "outputs": [
    {
     "name": "stdout",
     "output_type": "stream",
     "text": [
      "7089 7089\n"
     ]
    }
   ],
   "source": [
    "print(len(train_mixed_data_x),len(train_mixed_data_y))"
   ]
  },
  {
   "cell_type": "code",
   "execution_count": null,
   "metadata": {},
   "outputs": [],
   "source": []
  }
 ],
 "metadata": {
  "kernelspec": {
   "display_name": "Python 3",
   "language": "python",
   "name": "python3"
  },
  "language_info": {
   "codemirror_mode": {
    "name": "ipython",
    "version": 3
   },
   "file_extension": ".py",
   "mimetype": "text/x-python",
   "name": "python",
   "nbconvert_exporter": "python",
   "pygments_lexer": "ipython3",
   "version": "3.7.6"
  }
 },
 "nbformat": 4,
 "nbformat_minor": 4
}
