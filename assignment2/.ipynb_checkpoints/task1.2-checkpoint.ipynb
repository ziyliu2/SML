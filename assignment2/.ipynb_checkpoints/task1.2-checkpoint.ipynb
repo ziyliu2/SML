{
 "cells": [
  {
   "cell_type": "code",
   "execution_count": 1,
   "metadata": {},
   "outputs": [],
   "source": [
    "import numpy as np\n",
    "import csv\n",
    "import random"
   ]
  },
  {
   "cell_type": "code",
   "execution_count": 2,
   "metadata": {},
   "outputs": [],
   "source": [
    "male_data = []\n",
    "with open('MALE.csv') as csvfile:\n",
    "    csv_reader = csv.reader(csvfile)  \n",
    "    male_header = next(csv_reader)  \n",
    "    for row in csv_reader: \n",
    "        male_data.append(row)\n",
    "        \n",
    "female_data = []\n",
    "with open('FEMALE.csv') as csvfile:\n",
    "    csv_reader = csv.reader(csvfile)  \n",
    "    female_header = next(csv_reader)  \n",
    "    for row in csv_reader: \n",
    "        female_data.append(row)\n",
    "        \n",
    "mixed_data = []\n",
    "with open('MIXED.csv') as csvfile:\n",
    "    csv_reader = csv.reader(csvfile)  \n",
    "    mixed_header = next(csv_reader)  \n",
    "    for row in csv_reader: \n",
    "        mixed_data.append(row)\n",
    "        \n",
    "male_data = [[int(a) for a in row] for row in male_data]\n",
    "female_data = [[int(b) for b in row] for row in female_data]\n",
    "mixed_data = [[int(c) for c in row] for row in mixed_data]"
   ]
  },
  {
   "cell_type": "code",
   "execution_count": 3,
   "metadata": {},
   "outputs": [],
   "source": [
    "# shuffle dataset\n",
    "random.shuffle(male_data)\n",
    "random.shuffle(female_data)\n",
    "random.shuffle(mixed_data)"
   ]
  },
  {
   "cell_type": "code",
   "execution_count": 4,
   "metadata": {},
   "outputs": [],
   "source": [
    "# get score(label)\n",
    "male_score = []\n",
    "for e in male_data:\n",
    "    male_score.append(e[6])\n",
    "    del e[6]\n",
    "    \n",
    "female_score = []\n",
    "for e in female_data:\n",
    "    female_score.append(e[6])\n",
    "    del e[6]\n",
    "    \n",
    "mixed_score = []\n",
    "for e in mixed_data:\n",
    "    mixed_score.append(e[6])\n",
    "    del e[6]"
   ]
  },
  {
   "cell_type": "code",
   "execution_count": 8,
   "metadata": {},
   "outputs": [
    {
     "data": {
      "text/plain": [
       "list"
      ]
     },
     "execution_count": 8,
     "metadata": {},
     "output_type": "execute_result"
    }
   ],
   "source": [
    "type(male_data[1])"
   ]
  },
  {
   "cell_type": "code",
   "execution_count": 13,
   "metadata": {},
   "outputs": [],
   "source": [
    "zero = [0,0,0,0,0,0]\n",
    "\n",
    "new_male_data = []\n",
    "for e in male_data:\n",
    "    male = e + e + zero + zero\n",
    "    new_male_data.append(male)\n",
    "\n",
    "new_female_data = []\n",
    "for e in female_data:\n",
    "    female = e + zero + e + zero\n",
    "    new_female_data.append(female)\n",
    "    \n",
    "new_mixed_data = []\n",
    "for e in mixed_data:\n",
    "    mixed = e + zero + zero + e\n",
    "    new_mixed_data.append(mixed)"
   ]
  },
  {
   "cell_type": "code",
   "execution_count": 15,
   "metadata": {},
   "outputs": [
    {
     "data": {
      "text/plain": [
       "[1, 14, 27, 2, 5, 2, 1, 14, 27, 2, 5, 2, 0, 0, 0, 0, 0, 0, 0, 0, 0, 0, 0, 0]"
      ]
     },
     "execution_count": 15,
     "metadata": {},
     "output_type": "execute_result"
    }
   ],
   "source": [
    "new_male_data[1]"
   ]
  },
  {
   "cell_type": "code",
   "execution_count": null,
   "metadata": {},
   "outputs": [],
   "source": []
  }
 ],
 "metadata": {
  "kernelspec": {
   "display_name": "Python 3",
   "language": "python",
   "name": "python3"
  },
  "language_info": {
   "codemirror_mode": {
    "name": "ipython",
    "version": 3
   },
   "file_extension": ".py",
   "mimetype": "text/x-python",
   "name": "python",
   "nbconvert_exporter": "python",
   "pygments_lexer": "ipython3",
   "version": "3.7.6"
  }
 },
 "nbformat": 4,
 "nbformat_minor": 4
}
