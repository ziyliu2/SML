{
 "cells": [
  {
   "cell_type": "code",
   "execution_count": 6,
   "metadata": {},
   "outputs": [],
   "source": [
    "import numpy as np\n",
    "import csv\n",
    "import random"
   ]
  },
  {
   "cell_type": "code",
   "execution_count": 7,
   "metadata": {},
   "outputs": [],
   "source": [
    "male_data = []\n",
    "with open('MALE.csv') as csvfile:\n",
    "    csv_reader = csv.reader(csvfile)  \n",
    "    male_header = next(csv_reader)  \n",
    "    for row in csv_reader: \n",
    "        male_data.append(row)\n",
    "        \n",
    "female_data = []\n",
    "with open('FEMALE.csv') as csvfile:\n",
    "    csv_reader = csv.reader(csvfile)  \n",
    "    female_header = next(csv_reader)  \n",
    "    for row in csv_reader: \n",
    "        female_data.append(row)\n",
    "        \n",
    "mixed_data = []\n",
    "with open('MIXED.csv') as csvfile:\n",
    "    csv_reader = csv.reader(csvfile)  \n",
    "    mixed_header = next(csv_reader)  \n",
    "    for row in csv_reader: \n",
    "        mixed_data.append(row)\n",
    "        \n",
    "male_data = [[int(a) for a in row] for row in male_data]\n",
    "female_data = [[int(b) for b in row] for row in female_data]\n",
    "mixed_data = [[int(c) for c in row] for row in mixed_data]"
   ]
  },
  {
   "cell_type": "code",
   "execution_count": 8,
   "metadata": {},
   "outputs": [],
   "source": [
    "# shuffle dataset\n",
    "random.shuffle(male_data)\n",
    "random.shuffle(female_data)\n",
    "random.shuffle(mixed_data)"
   ]
  },
  {
   "cell_type": "code",
   "execution_count": 9,
   "metadata": {},
   "outputs": [
    {
     "name": "stdout",
     "output_type": "stream",
     "text": [
      "[1, 26, 26, 3, 1, 1, 26]\n"
     ]
    }
   ],
   "source": [
    "print(female_data[1])"
   ]
  },
  {
   "cell_type": "code",
   "execution_count": 10,
   "metadata": {},
   "outputs": [],
   "source": [
    "# get score(label)\n",
    "male_score = []\n",
    "for e in male_data:\n",
    "    male_score.append(e[6])\n",
    "    del e[6]\n",
    "    \n",
    "female_score = []\n",
    "for e in female_data:\n",
    "    female_score.append(e[6])\n",
    "    del e[6]\n",
    "    \n",
    "mixed_score = []\n",
    "for e in mixed_data:\n",
    "    mixed_score.append(e[6])\n",
    "    del e[6]"
   ]
  },
  {
   "cell_type": "code",
   "execution_count": 11,
   "metadata": {},
   "outputs": [],
   "source": [
    "# divide train, dev and test set\n",
    "test_male_data_x = male_data[:100]\n",
    "dev_male_data_x = male_data[100:200]\n",
    "train_male_data_x = male_data[200:]\n",
    "\n",
    "test_male_data_y = male_score[:100]\n",
    "dev_male_data_y = male_score[100:200]\n",
    "train_male_data_y = male_score[200:]\n",
    "\n",
    "test_female_data_x = female_data[:100]\n",
    "dev_female_data_x = female_data[100:200]\n",
    "train_female_data_x = female_data[200:]\n",
    "\n",
    "test_female_data_y = female_score[:100]\n",
    "dev_female_data_y = female_score[100:200]\n",
    "train_female_data_y = female_score[200:]\n",
    "\n",
    "test_mixed_data_x = mixed_data[:100]\n",
    "dev_mixed_data_x = mixed_data[100:200]\n",
    "train_mixed_data_x = mixed_data[200:]\n",
    "\n",
    "test_mixed_data_y = mixed_score[:100]\n",
    "dev_mixed_data_y = mixed_score[100:200]\n",
    "train_mixed_data_y = mixed_score[200:]"
   ]
  },
  {
   "cell_type": "code",
   "execution_count": 12,
   "metadata": {},
   "outputs": [
    {
     "name": "stdout",
     "output_type": "stream",
     "text": [
      "7089 7089\n"
     ]
    }
   ],
   "source": [
    "print(len(train_mixed_data_x),len(train_mixed_data_y))"
   ]
  },
  {
   "cell_type": "code",
   "execution_count": 13,
   "metadata": {},
   "outputs": [],
   "source": [
    "# neural network\n",
    "from sklearn.neural_network import MLPRegressor\n",
    "from sklearn import linear_model\n",
    "from sklearn.metrics import mean_squared_error"
   ]
  },
  {
   "cell_type": "code",
   "execution_count": 24,
   "metadata": {},
   "outputs": [],
   "source": [
    "# mlp regression\n",
    "def mlp_regression(x_train, y_train, x_test):\n",
    "    regr = MLPRegressor(max_iter=800).fit(x_train, y_train)\n",
    "\n",
    "    x_test = np.array(x_test)\n",
    "    y_pred = regr.predict(x_test)\n",
    "    \n",
    "    return y_pred"
   ]
  },
  {
   "cell_type": "code",
   "execution_count": 15,
   "metadata": {},
   "outputs": [],
   "source": [
    "# linear regression\n",
    "def lr_regression(x_train, y_train, x_test):\n",
    "    regr = linear_model.LinearRegression().fit(x_train, y_train)\n",
    "\n",
    "    x_test = np.array(x_test)\n",
    "    y_pred = regr.predict(x_test)\n",
    "    \n",
    "    return y_pred"
   ]
  },
  {
   "cell_type": "code",
   "execution_count": 16,
   "metadata": {},
   "outputs": [],
   "source": [
    "# linint mlp\n",
    "def get_pred_mlp(src_x_train, src_y_train, tgt_x_train, tgt_y_train, x_test):    \n",
    "    y1_pred = mlp_regression(src_x_train, src_y_train, x_test)\n",
    "    y2_pred = mlp_regression(tgt_x_train, tgt_y_train, x_test)\n",
    "    \n",
    "    return y1_pred, y2_pred"
   ]
  },
  {
   "cell_type": "code",
   "execution_count": 17,
   "metadata": {},
   "outputs": [],
   "source": [
    "# linint lr\n",
    "def get_pred_lr(src_x_train, src_y_train, tgt_x_train, tgt_y_train, x_test):\n",
    "    y1_pred = lr_regression(src_x_train, src_y_train, x_test)\n",
    "    y2_pred = lr_regression(tgt_x_train, tgt_y_train, x_test)\n",
    "    \n",
    "    return y1_pred, y2_pred"
   ]
  },
  {
   "cell_type": "code",
   "execution_count": 25,
   "metadata": {},
   "outputs": [
    {
     "name": "stdout",
     "output_type": "stream",
     "text": [
      "131.37658703682314 164.39943663546615\n"
     ]
    }
   ],
   "source": [
    "# male srconly\n",
    "src_x_train = train_female_data_x + train_mixed_data_x\n",
    "src_x_train = np.array(src_x_train)\n",
    "src_y_train = train_female_data_y + train_mixed_data_y\n",
    "src_y_train = np.array(src_y_train)\n",
    "y_test = np.array(test_male_data_y)\n",
    "\n",
    "mlp_y_pred = mlp_regression(src_x_train, src_y_train, test_male_data_x)\n",
    "lr_y_pred = lr_regression(src_x_train, src_y_train, test_male_data_x)\n",
    "\n",
    "print(mean_squared_error(y_test, mlp_y_pred), mean_squared_error(y_test, lr_y_pred))"
   ]
  },
  {
   "cell_type": "code",
   "execution_count": 26,
   "metadata": {},
   "outputs": [
    {
     "name": "stdout",
     "output_type": "stream",
     "text": [
      "120.12673556379139 175.4876802912998\n"
     ]
    }
   ],
   "source": [
    "# female srconly\n",
    "src_x_train = train_male_data_x + train_mixed_data_x\n",
    "src_x_train = np.array(src_x_train)\n",
    "src_y_train = train_male_data_y + train_mixed_data_y\n",
    "src_y_train = np.array(src_y_train)\n",
    "\n",
    "y_test = np.array(test_female_data_y)\n",
    "\n",
    "mlp_y_pred = mlp_regression(src_x_train, src_y_train, test_female_data_x)\n",
    "lr_y_pred = lr_regression(src_x_train, src_y_train, test_female_data_x)\n",
    "\n",
    "print(mean_squared_error(y_test, mlp_y_pred), mean_squared_error(y_test, lr_y_pred))"
   ]
  },
  {
   "cell_type": "code",
   "execution_count": 27,
   "metadata": {},
   "outputs": [
    {
     "name": "stdout",
     "output_type": "stream",
     "text": [
      "140.8210621639053 173.3934186660481\n"
     ]
    }
   ],
   "source": [
    "# mixed srconly\n",
    "src_x_train = train_male_data_x + train_female_data_x\n",
    "src_x_train = np.array(src_x_train)\n",
    "src_y_train = train_male_data_y + train_female_data_y\n",
    "src_y_train = np.array(src_y_train)\n",
    "\n",
    "y_test = np.array(test_mixed_data_y)\n",
    "\n",
    "mlp_y_pred = mlp_regression(src_x_train, src_y_train, test_mixed_data_x)\n",
    "lr_y_pred = lr_regression(src_x_train, src_y_train, test_mixed_data_x)\n",
    "\n",
    "print(mean_squared_error(y_test, mlp_y_pred), mean_squared_error(y_test, lr_y_pred))"
   ]
  },
  {
   "cell_type": "code",
   "execution_count": 28,
   "metadata": {},
   "outputs": [
    {
     "name": "stdout",
     "output_type": "stream",
     "text": [
      "135.8755717550831 159.90091162701756\n"
     ]
    }
   ],
   "source": [
    "# male tgtonly\n",
    "tgt_x_train = np.array(train_male_data_x)\n",
    "tgt_y_train = np.array(train_male_data_y)\n",
    "\n",
    "y_test = np.array(test_male_data_y)\n",
    "\n",
    "mlp_y_pred = mlp_regression(tgt_x_train, tgt_y_train, test_male_data_x)\n",
    "lr_y_pred = lr_regression(tgt_x_train, tgt_y_train, test_male_data_x)\n",
    "\n",
    "print(mean_squared_error(y_test, mlp_y_pred), mean_squared_error(y_test, lr_y_pred))"
   ]
  },
  {
   "cell_type": "code",
   "execution_count": 29,
   "metadata": {},
   "outputs": [
    {
     "name": "stdout",
     "output_type": "stream",
     "text": [
      "153.51629384171895 156.94152882532816\n"
     ]
    }
   ],
   "source": [
    "# female tgtonly\n",
    "tgt_x_train = np.array(train_female_data_x)\n",
    "tgt_y_train = np.array(train_female_data_y)\n",
    "\n",
    "y_test = np.array(test_female_data_y)\n",
    "\n",
    "mlp_y_pred = mlp_regression(tgt_x_train, tgt_y_train, test_female_data_x)\n",
    "lr_y_pred = lr_regression(tgt_x_train, tgt_y_train, test_female_data_x)\n",
    "\n",
    "print(mean_squared_error(y_test, mlp_y_pred), mean_squared_error(y_test, lr_y_pred))"
   ]
  },
  {
   "cell_type": "code",
   "execution_count": 30,
   "metadata": {},
   "outputs": [
    {
     "name": "stdout",
     "output_type": "stream",
     "text": [
      "125.0393228162836 173.44071670380296\n"
     ]
    }
   ],
   "source": [
    "# mixed tgtonly\n",
    "tgt_x_train = np.array(train_mixed_data_x)\n",
    "tgt_y_train = np.array(train_mixed_data_y)\n",
    "\n",
    "y_test = np.array(test_mixed_data_y)\n",
    "\n",
    "mlp_y_pred = mlp_regression(tgt_x_train, tgt_y_train, test_mixed_data_x)\n",
    "lr_y_pred = lr_regression(tgt_x_train, tgt_y_train, test_mixed_data_x)\n",
    "\n",
    "print(mean_squared_error(y_test, mlp_y_pred), mean_squared_error(y_test, lr_y_pred))"
   ]
  },
  {
   "cell_type": "code",
   "execution_count": 31,
   "metadata": {},
   "outputs": [
    {
     "name": "stdout",
     "output_type": "stream",
     "text": [
      "134.51452108210168 164.34584353616444\n"
     ]
    }
   ],
   "source": [
    "# male all\n",
    "all_x_train = train_male_data_x[:100] + train_female_data_x + train_mixed_data_x\n",
    "all_x_train = np.array(all_x_train)\n",
    "all_y_train = train_male_data_y[:100] + train_female_data_y + train_mixed_data_y\n",
    "all_y_train = np.array(all_y_train)\n",
    "\n",
    "y_test = np.array(test_male_data_y)\n",
    "\n",
    "mlp_y_pred = mlp_regression(all_x_train, all_y_train, test_male_data_x)\n",
    "lr_y_pred = lr_regression(all_x_train, all_y_train, test_male_data_x)\n",
    "\n",
    "print(mean_squared_error(y_test, mlp_y_pred), mean_squared_error(y_test, lr_y_pred))"
   ]
  },
  {
   "cell_type": "code",
   "execution_count": 32,
   "metadata": {},
   "outputs": [
    {
     "name": "stdout",
     "output_type": "stream",
     "text": [
      "119.9039406525048 175.24142249722206\n"
     ]
    }
   ],
   "source": [
    "# female all\n",
    "all_x_train = train_female_data_x[:100] + train_male_data_x + train_mixed_data_x\n",
    "all_x_train = np.array(all_x_train)\n",
    "all_y_train = train_female_data_y[:100] + train_male_data_y + train_mixed_data_y\n",
    "all_y_train = np.array(all_y_train)\n",
    "\n",
    "y_test = np.array(test_female_data_y)\n",
    "\n",
    "mlp_y_pred = mlp_regression(all_x_train, all_y_train, test_female_data_x)\n",
    "lr_y_pred = lr_regression(all_x_train, all_y_train, test_female_data_x)\n",
    "\n",
    "print(mean_squared_error(y_test, mlp_y_pred), mean_squared_error(y_test, lr_y_pred))"
   ]
  },
  {
   "cell_type": "code",
   "execution_count": 33,
   "metadata": {},
   "outputs": [
    {
     "name": "stdout",
     "output_type": "stream",
     "text": [
      "140.27667636011248 173.42552803875557\n"
     ]
    }
   ],
   "source": [
    "# mixed all\n",
    "all_x_train = train_mixed_data_x[:100] + train_male_data_x + train_female_data_x\n",
    "all_x_train = np.array(all_x_train)\n",
    "all_y_train = train_mixed_data_y[:100] + train_male_data_y + train_female_data_y\n",
    "all_y_train = np.array(all_y_train)\n",
    "\n",
    "y_test = np.array(test_mixed_data_y)\n",
    "\n",
    "mlp_y_pred = mlp_regression(all_x_train, all_y_train, test_mixed_data_x)\n",
    "lr_y_pred = lr_regression(all_x_train, all_y_train, test_mixed_data_x)\n",
    "\n",
    "print(mean_squared_error(y_test, mlp_y_pred), mean_squared_error(y_test, lr_y_pred))"
   ]
  },
  {
   "cell_type": "code",
   "execution_count": 34,
   "metadata": {},
   "outputs": [
    {
     "name": "stdout",
     "output_type": "stream",
     "text": [
      "136.54962338912324 164.01902271705302\n"
     ]
    }
   ],
   "source": [
    "# male weighted\n",
    "all_x_train = train_male_data_x[:100] * 10 + train_female_data_x + train_mixed_data_x\n",
    "all_x_train = np.array(all_x_train)\n",
    "all_y_train = train_male_data_y[:100] * 10 + train_female_data_y + train_mixed_data_y\n",
    "all_y_train = np.array(all_y_train)\n",
    "\n",
    "y_test = np.array(test_male_data_y)\n",
    "\n",
    "mlp_y_pred = mlp_regression(all_x_train, all_y_train, test_male_data_x)\n",
    "lr_y_pred = lr_regression(all_x_train, all_y_train, test_male_data_x)\n",
    "\n",
    "print(mean_squared_error(y_test, mlp_y_pred), mean_squared_error(y_test, lr_y_pred))"
   ]
  },
  {
   "cell_type": "code",
   "execution_count": 35,
   "metadata": {},
   "outputs": [
    {
     "name": "stdout",
     "output_type": "stream",
     "text": [
      "124.12577044486768 173.46792437109863\n"
     ]
    }
   ],
   "source": [
    "# female weighted\n",
    "all_x_train = train_female_data_x[:100] * 10 + train_male_data_x + train_mixed_data_x\n",
    "all_x_train = np.array(all_x_train)\n",
    "all_y_train = train_female_data_y[:100] * 10 + train_male_data_y + train_mixed_data_y\n",
    "all_y_train = np.array(all_y_train)\n",
    "\n",
    "y_test = np.array(test_female_data_y)\n",
    "\n",
    "mlp_y_pred = mlp_regression(all_x_train, all_y_train, test_female_data_x)\n",
    "lr_y_pred = lr_regression(all_x_train, all_y_train, test_female_data_x)\n",
    "\n",
    "print(mean_squared_error(y_test, mlp_y_pred), mean_squared_error(y_test, lr_y_pred))"
   ]
  },
  {
   "cell_type": "code",
   "execution_count": 36,
   "metadata": {},
   "outputs": [
    {
     "name": "stdout",
     "output_type": "stream",
     "text": [
      "139.69158638194804 173.77365796537288\n"
     ]
    }
   ],
   "source": [
    "# mixed weighted\n",
    "all_x_train = train_mixed_data_x[:100] * 10 + train_male_data_x + train_female_data_x\n",
    "all_x_train = np.array(all_x_train)\n",
    "all_y_train = train_mixed_data_y[:100] * 10 + train_male_data_y + train_female_data_y\n",
    "all_y_train = np.array(all_y_train)\n",
    "\n",
    "y_test = np.array(test_mixed_data_y)\n",
    "\n",
    "mlp_y_pred = mlp_regression(all_x_train, all_y_train, test_mixed_data_x)\n",
    "lr_y_pred = lr_regression(all_x_train, all_y_train, test_mixed_data_x)\n",
    "\n",
    "print(mean_squared_error(y_test, mlp_y_pred), mean_squared_error(y_test, lr_y_pred))"
   ]
  },
  {
   "cell_type": "code",
   "execution_count": 37,
   "metadata": {},
   "outputs": [],
   "source": [
    "# pred mlp\n",
    "def pred_mlp(src_x_train, src_y_train, tgt_x_train, tgt_y_train, x_test, y_test):\n",
    "    regr = MLPRegressor(max_iter=800).fit(src_x_train, src_y_train)\n",
    "    regr = MLPRegressor(max_iter=800).fit(tgt_x_train, tgt_y_train)\n",
    "\n",
    "    x_test = np.array(x_test)\n",
    "    y_test = np.array(y_test)\n",
    "    y_pred = regr.predict(x_test)\n",
    "\n",
    "    return mean_squared_error(y_test, y_pred)"
   ]
  },
  {
   "cell_type": "code",
   "execution_count": 38,
   "metadata": {},
   "outputs": [],
   "source": [
    "# pred lr\n",
    "def pred_lr(src_x_train, src_y_train, tgt_x_train, tgt_y_train, x_test, y_test):\n",
    "    regr = linear_model.LinearRegression().fit(src_x_train, src_y_train)\n",
    "    regr = linear_model.LinearRegression().fit(tgt_x_train, tgt_y_train)\n",
    "\n",
    "    x_test = np.array(x_test)\n",
    "    y_test = np.array(y_test)\n",
    "    y_pred = regr.predict(x_test)\n",
    "\n",
    "    return mean_squared_error(y_test, y_pred)"
   ]
  },
  {
   "cell_type": "code",
   "execution_count": 39,
   "metadata": {},
   "outputs": [
    {
     "name": "stdout",
     "output_type": "stream",
     "text": [
      "135.93192300016352 159.90091162701756\n"
     ]
    }
   ],
   "source": [
    "# male pred\n",
    "src_x_train = train_female_data_x + train_mixed_data_x\n",
    "src_x_train = np.array(src_x_train)\n",
    "src_y_train = train_female_data_y + train_mixed_data_y\n",
    "src_y_train = np.array(src_y_train)\n",
    "tgt_x_train = np.array(train_male_data_x)\n",
    "tgt_y_train = np.array(train_male_data_y)\n",
    "\n",
    "mlp_mse = pred_mlp(src_x_train, src_y_train, tgt_x_train, tgt_y_train, test_male_data_x, test_male_data_y)\n",
    "lr_mse = pred_lr(src_x_train, src_y_train, tgt_x_train, tgt_y_train, test_male_data_x, test_male_data_y)\n",
    "\n",
    "print(mlp_mse, lr_mse)"
   ]
  },
  {
   "cell_type": "code",
   "execution_count": 40,
   "metadata": {},
   "outputs": [
    {
     "name": "stdout",
     "output_type": "stream",
     "text": [
      "117.2575801593722 156.94152882532816\n"
     ]
    }
   ],
   "source": [
    "# female pred\n",
    "src_x_train = train_male_data_x + train_mixed_data_x\n",
    "src_x_train = np.array(src_x_train)\n",
    "src_y_train = train_male_data_y + train_mixed_data_y\n",
    "src_y_train = np.array(src_y_train)\n",
    "tgt_x_train = np.array(train_female_data_x)\n",
    "tgt_y_train = np.array(train_female_data_y)\n",
    "\n",
    "mlp_mse = pred_mlp(src_x_train, src_y_train, tgt_x_train, tgt_y_train, test_female_data_x, test_female_data_y)\n",
    "lr_mse = pred_lr(src_x_train, src_y_train, tgt_x_train, tgt_y_train, test_female_data_x, test_female_data_y)\n",
    "\n",
    "print(mlp_mse, lr_mse)"
   ]
  },
  {
   "cell_type": "code",
   "execution_count": 41,
   "metadata": {},
   "outputs": [
    {
     "name": "stdout",
     "output_type": "stream",
     "text": [
      "126.08799392568206 173.44071670380296\n"
     ]
    }
   ],
   "source": [
    "# mixed pred\n",
    "src_x_train = train_male_data_x + train_female_data_x\n",
    "src_x_train = np.array(src_x_train)\n",
    "src_y_train = train_male_data_y + train_female_data_y\n",
    "src_y_train = np.array(src_y_train)\n",
    "tgt_x_train = np.array(train_mixed_data_x)\n",
    "tgt_y_train = np.array(train_mixed_data_y)\n",
    "\n",
    "mlp_mse = pred_mlp(src_x_train, src_y_train, tgt_x_train, tgt_y_train, test_mixed_data_x, test_mixed_data_y)\n",
    "lr_mse = pred_lr(src_x_train, src_y_train, tgt_x_train, tgt_y_train, test_mixed_data_x, test_mixed_data_y)\n",
    "\n",
    "print(mlp_mse, lr_mse)"
   ]
  },
  {
   "cell_type": "code",
   "execution_count": 42,
   "metadata": {},
   "outputs": [
    {
     "data": {
      "text/plain": [
       "(100,)"
      ]
     },
     "execution_count": 42,
     "metadata": {},
     "output_type": "execute_result"
    }
   ],
   "source": [
    "np.shape(np.array(test_male_data_y))"
   ]
  },
  {
   "cell_type": "code",
   "execution_count": 43,
   "metadata": {},
   "outputs": [],
   "source": [
    "# get value w\n",
    "def get_mse(y1_pred, y2_pred, y_test, W):   \n",
    "    best_w = 0\n",
    "    best_mse = float(\"inf\")\n",
    "    for w in W:\n",
    "        y_pred = []\n",
    "        for i, j in zip(y1_pred, y2_pred):\n",
    "            summ = w * float(j) + (1-w) * float(i)\n",
    "            y_pred.append(summ)\n",
    "        mse = mean_squared_error(y_test, y_pred)\n",
    "        if (mse < best_mse):\n",
    "            best_mse = mse\n",
    "            best_w = w\n",
    "    \n",
    "    if best_w == 0 :\n",
    "        W2 = [best_w, best_w+0.05, best_w+0.1, best_w+0.15, best_w+0.2]\n",
    "    elif best_w == 1:\n",
    "        W2 = [best_w-0.2, best_w-0.15, best_w-0.1, best_w-0.05, best_w]\n",
    "    else:\n",
    "        W2 = [best_w-0.1, best_w-0.05, best_w, best_w+0.05, best_w+0.1]\n",
    "        \n",
    "    for e in W:\n",
    "        y_pred = []\n",
    "        for i, j in zip(y1_pred, y2_pred):\n",
    "            summ = e * float(j) + (1-e) * float(i)\n",
    "            y_pred.append(summ)\n",
    "        mse = mean_squared_error(y_test, y_pred)\n",
    "        if (mse < best_mse):\n",
    "            best_mse = mse\n",
    "            best_w = e\n",
    "\n",
    "    return best_mse    "
   ]
  },
  {
   "cell_type": "code",
   "execution_count": 44,
   "metadata": {},
   "outputs": [
    {
     "name": "stdout",
     "output_type": "stream",
     "text": [
      "131.077438082092 159.90091162701756\n"
     ]
    }
   ],
   "source": [
    "# male linint\n",
    "src_x_train = train_female_data_x + train_mixed_data_x\n",
    "src_x_train = np.array(src_x_train)\n",
    "src_y_train = train_female_data_y + train_mixed_data_y\n",
    "src_y_train = np.array(src_y_train)\n",
    "\n",
    "tgt_x_train = np.array(train_male_data_x)\n",
    "tgt_y_train = np.array(train_male_data_y)\n",
    "\n",
    "y_test = np.array(test_male_data_y)\n",
    "\n",
    "mlp_y1_pred, mlp_y2_pred = get_pred_mlp(src_x_train, src_y_train, tgt_x_train, tgt_y_train,test_male_data_x)\n",
    "lr_y1_pred, lr_y2_pred = get_pred_lr(src_x_train, src_y_train, tgt_x_train, tgt_y_train, test_male_data_x)\n",
    "\n",
    "W = [0.0, 0.2, 0.4, 0.6, 0.8, 1.0]\n",
    "\n",
    "mlp_mse = get_mse(mlp_y1_pred, mlp_y2_pred, y_test, W)\n",
    "lr_mse = get_mse(lr_y1_pred, lr_y2_pred, y_test, W)\n",
    "\n",
    "print(mlp_mse, lr_mse)"
   ]
  },
  {
   "cell_type": "code",
   "execution_count": 45,
   "metadata": {},
   "outputs": [
    {
     "name": "stdout",
     "output_type": "stream",
     "text": [
      "121.90878398191047 156.94152882532816\n"
     ]
    }
   ],
   "source": [
    "# female linint\n",
    "src_x_train = train_male_data_x + train_mixed_data_x\n",
    "src_x_train = np.array(src_x_train)\n",
    "src_y_train = train_male_data_y + train_mixed_data_y\n",
    "src_y_train = np.array(src_y_train)\n",
    "\n",
    "tgt_x_train = np.array(train_female_data_x)\n",
    "tgt_y_train = np.array(train_female_data_y)\n",
    "\n",
    "y_test = np.array(test_female_data_y)\n",
    "\n",
    "mlp_y1_pred, mlp_y2_pred = get_pred_mlp(src_x_train, src_y_train, tgt_x_train, tgt_y_train,test_female_data_x)\n",
    "lr_y1_pred, lr_y2_pred = get_pred_lr(src_x_train, src_y_train, tgt_x_train, tgt_y_train, test_female_data_x)\n",
    "\n",
    "W = [0.0, 0.2, 0.4, 0.6, 0.8, 1.0]\n",
    "\n",
    "mlp_mse = get_mse(mlp_y1_pred, mlp_y2_pred, y_test, W)\n",
    "lr_mse = get_mse(lr_y1_pred, lr_y2_pred, y_test, W)\n",
    "\n",
    "print(mlp_mse, lr_mse)"
   ]
  },
  {
   "cell_type": "code",
   "execution_count": 46,
   "metadata": {},
   "outputs": [
    {
     "name": "stdout",
     "output_type": "stream",
     "text": [
      "129.01626984026814 172.88479251098738\n"
     ]
    }
   ],
   "source": [
    "# mixed linint\n",
    "src_x_train = train_male_data_x + train_female_data_x\n",
    "src_x_train = np.array(src_x_train)\n",
    "src_y_train = train_male_data_y + train_female_data_y\n",
    "src_y_train = np.array(src_y_train)\n",
    "\n",
    "tgt_x_train = np.array(train_mixed_data_x)\n",
    "tgt_y_train = np.array(train_mixed_data_y)\n",
    "\n",
    "y_test = np.array(test_mixed_data_y)\n",
    "\n",
    "mlp_y1_pred, mlp_y2_pred = get_pred_mlp(src_x_train, src_y_train, tgt_x_train, tgt_y_train,test_mixed_data_x)\n",
    "lr_y1_pred, lr_y2_pred = get_pred_lr(src_x_train, src_y_train, tgt_x_train, tgt_y_train, test_mixed_data_x)\n",
    "\n",
    "W = [0.0, 0.2, 0.4, 0.6, 0.8, 1.0]\n",
    "\n",
    "mlp_mse = get_mse(mlp_y1_pred, mlp_y2_pred, y_test, W)\n",
    "lr_mse = get_mse(lr_y1_pred, lr_y2_pred, y_test, W)\n",
    "\n",
    "print(mlp_mse, lr_mse)"
   ]
  },
  {
   "cell_type": "code",
   "execution_count": null,
   "metadata": {},
   "outputs": [],
   "source": []
  }
 ],
 "metadata": {
  "kernelspec": {
   "display_name": "Python 3",
   "language": "python",
   "name": "python3"
  },
  "language_info": {
   "codemirror_mode": {
    "name": "ipython",
    "version": 3
   },
   "file_extension": ".py",
   "mimetype": "text/x-python",
   "name": "python",
   "nbconvert_exporter": "python",
   "pygments_lexer": "ipython3",
   "version": "3.7.6"
  }
 },
 "nbformat": 4,
 "nbformat_minor": 4
}
