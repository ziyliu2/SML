{
 "cells": [
  {
   "cell_type": "code",
   "execution_count": 1,
   "metadata": {},
   "outputs": [],
   "source": [
    "import numpy as np\n",
    "import csv\n",
    "import random"
   ]
  },
  {
   "cell_type": "code",
   "execution_count": 2,
   "metadata": {},
   "outputs": [],
   "source": [
    "male_data = []\n",
    "with open('MALE.csv') as csvfile:\n",
    "    csv_reader = csv.reader(csvfile)  \n",
    "    male_header = next(csv_reader)  \n",
    "    for row in csv_reader: \n",
    "        male_data.append(row)\n",
    "        \n",
    "female_data = []\n",
    "with open('FEMALE.csv') as csvfile:\n",
    "    csv_reader = csv.reader(csvfile)  \n",
    "    female_header = next(csv_reader)  \n",
    "    for row in csv_reader: \n",
    "        female_data.append(row)\n",
    "        \n",
    "mixed_data = []\n",
    "with open('MIXED.csv') as csvfile:\n",
    "    csv_reader = csv.reader(csvfile)  \n",
    "    mixed_header = next(csv_reader)  \n",
    "    for row in csv_reader: \n",
    "        mixed_data.append(row)\n",
    "        \n",
    "male_data = [[int(a) for a in row] for row in male_data]\n",
    "female_data = [[int(b) for b in row] for row in female_data]\n",
    "mixed_data = [[int(c) for c in row] for row in mixed_data]"
   ]
  },
  {
   "cell_type": "code",
   "execution_count": 3,
   "metadata": {},
   "outputs": [],
   "source": [
    "# shuffle dataset\n",
    "random.shuffle(male_data)\n",
    "random.shuffle(female_data)\n",
    "random.shuffle(mixed_data)"
   ]
  },
  {
   "cell_type": "code",
   "execution_count": 4,
   "metadata": {},
   "outputs": [],
   "source": [
    "# get score(label)\n",
    "male_score = []\n",
    "for e in male_data:\n",
    "    male_score.append(e[6])\n",
    "    del e[6]\n",
    "    \n",
    "female_score = []\n",
    "for e in female_data:\n",
    "    female_score.append(e[6])\n",
    "    del e[6]\n",
    "    \n",
    "mixed_score = []\n",
    "for e in mixed_data:\n",
    "    mixed_score.append(e[6])\n",
    "    del e[6]"
   ]
  },
  {
   "cell_type": "code",
   "execution_count": 18,
   "metadata": {},
   "outputs": [],
   "source": [
    "# divide train, dev and test set\n",
    "test_male_data_x = male_data[:100]\n",
    "dev_male_data_x = male_data[100:200]\n",
    "train_male_data_x = male_data[200:]\n",
    "\n",
    "test_male_data_y = male_score[:100]\n",
    "dev_male_data_y = male_score[100:200]\n",
    "train_male_data_y = male_score[200:]\n",
    "\n",
    "test_female_data_x = female_data[:100]\n",
    "dev_female_data_x = female_data[100:200]\n",
    "train_female_data_x = female_data[200:]\n",
    "\n",
    "test_female_data_y = female_score[:100]\n",
    "dev_female_data_y = female_score[100:200]\n",
    "train_female_data_y = female_score[200:]\n",
    "\n",
    "test_mixed_data_x = mixed_data[:100]\n",
    "dev_mixed_data_x = mixed_data[100:200]\n",
    "train_mixed_data_x = mixed_data[200:]\n",
    "\n",
    "test_mixed_data_y = mixed_score[:100]\n",
    "dev_mixed_data_y = mixed_score[100:200]\n",
    "train_mixed_data_y = mixed_score[200:]"
   ]
  },
  {
   "cell_type": "code",
   "execution_count": 6,
   "metadata": {},
   "outputs": [],
   "source": [
    "import sklearn.metrics\n",
    "from cvxopt import matrix, solvers"
   ]
  },
  {
   "cell_type": "code",
   "execution_count": 69,
   "metadata": {},
   "outputs": [
    {
     "name": "stdout",
     "output_type": "stream",
     "text": [
      "     pcost       dcost       gap    pres   dres\n",
      " 0: -1.3711e+10 -1.3731e+10  2e+07  2e-02  7e-16\n",
      " 1: -1.3711e+10 -1.3713e+10  2e+06  6e-04  9e-16\n",
      " 2: -1.3711e+10 -1.3711e+10  3e+04  1e-05  9e-16\n",
      " 3: -1.3711e+10 -1.3711e+10  3e+02  1e-07  1e-15\n",
      " 4: -1.3711e+10 -1.3711e+10  3e+00  1e-09  1e-15\n",
      "Optimal solution found.\n",
      "     pcost       dcost       gap    pres   dres\n",
      " 0: -2.0312e+10 -2.0342e+10  4e+07  2e-02  8e-16\n",
      " 1: -2.0312e+10 -2.0315e+10  3e+06  9e-04  1e-15\n",
      " 2: -2.0312e+10 -2.0312e+10  4e+04  7e-06  1e-15\n",
      " 3: -2.0312e+10 -2.0312e+10  4e+02  7e-08  1e-15\n",
      "Optimal solution found.\n",
      "[[0.79068114]\n",
      " [1.50629163]\n",
      " [0.88327673]\n",
      " ...\n",
      " [0.82297187]\n",
      " [0.59212894]\n",
      " [0.82297187]] [[1.97745806]\n",
      " [0.87310003]\n",
      " [0.55896195]\n",
      " ...\n",
      " [0.86287125]\n",
      " [1.79584165]\n",
      " [0.50556145]]\n"
     ]
    }
   ],
   "source": [
    "def kernel(ker, X1, X2, gamma):\n",
    "    K = None\n",
    "    if ker == 'linear':\n",
    "        if X2 is not None:\n",
    "            K = sklearn.metrics.pairwise.linear_kernel(np.asarray(X1), np.asarray(X2))\n",
    "        else:\n",
    "            K = sklearn.metrics.pairwise.linear_kernel(np.asarray(X1))\n",
    "    elif ker == 'rbf':\n",
    "        if X2 is not None:\n",
    "            K = sklearn.metrics.pairwise.rbf_kernel(np.asarray(X1), np.asarray(X2), gamma)\n",
    "        else:\n",
    "            K = sklearn.metrics.pairwise.rbf_kernel(np.asarray(X1), None, gamma)\n",
    "    return K\n",
    "\n",
    "class KMM:\n",
    "    def __init__(self, kernel_type='linear', gamma=1.0, B=1.0, eps=None):\n",
    "        '''\n",
    "        Initialization function\n",
    "        :param kernel_type: 'linear' | 'rbf'\n",
    "        :param gamma: kernel bandwidth for rbf kernel\n",
    "        :param B: bound for beta\n",
    "        :param eps: bound for sigma_beta\n",
    "        '''\n",
    "        self.kernel_type = kernel_type\n",
    "        self.gamma = gamma\n",
    "        self.B = B\n",
    "        self.eps = eps\n",
    "\n",
    "    def fit(self, Xs, Xt):\n",
    "        '''\n",
    "        Fit source and target using KMM (compute the coefficients)\n",
    "        :param Xs: ns * dim\n",
    "        :param Xt: nt * dim\n",
    "        :return: Coefficients (Pt / Ps) value vector (Beta in the paper)\n",
    "        '''\n",
    "        ns = Xs.shape[0]\n",
    "        nt = Xt.shape[0]\n",
    "        if self.eps == None:\n",
    "            self.eps = self.B / np.sqrt(ns)\n",
    "        K = kernel(self.kernel_type, Xs, None, self.gamma)\n",
    "        kappa = np.sum(kernel(self.kernel_type, Xs, Xt, self.gamma) * float(ns) / float(nt), axis=1)\n",
    "\n",
    "        K = matrix(K)\n",
    "        kappa = matrix(kappa)\n",
    "        G = matrix(np.r_[np.ones((1, ns)), -np.ones((1, ns)), np.eye(ns), -np.eye(ns)])\n",
    "        h = matrix(np.r_[ns * (1 + self.eps), ns * (self.eps - 1), self.B * np.ones((ns,)), np.zeros((ns,))])\n",
    "\n",
    "        sol = solvers.qp(K, -kappa, G, h)\n",
    "        beta = np.array(sol['x'])\n",
    "        return beta\n",
    "\n",
    "\n",
    "if __name__ == '__main__':\n",
    "    Xs1 = train_male_data_x\n",
    "    Xs2 = train_female_data_x\n",
    "    Xt = train_mixed_data_x\n",
    "    Xs1, Xt = np.asarray(Xs1), np.asarray(Xt)\n",
    "    Xs2, Xt = np.asarray(Xs2), np.asarray(Xt)\n",
    "    kmm = KMM(kernel_type='linear', B=10)\n",
    "    beta1 = kmm.fit(Xs1, Xt)\n",
    "    beta2 = kmm.fit(Xs2, Xt)\n",
    "    print(beta1, beta2)"
   ]
  },
  {
   "cell_type": "code",
   "execution_count": 67,
   "metadata": {},
   "outputs": [],
   "source": [
    "def weighted_data(train_data_x, beta):\n",
    "    new_train_data_x = []\n",
    "    for index in range(len(train_data_x)):\n",
    "        element = []\n",
    "        for j in train_data_x[index]:\n",
    "            e = j * float(beta[index])\n",
    "            element.append(e)\n",
    "        new_train_data_x.append(element)\n",
    "    \n",
    "    return new_train_data_x"
   ]
  },
  {
   "cell_type": "code",
   "execution_count": 76,
   "metadata": {},
   "outputs": [],
   "source": [
    "new_train_male_data_x = []\n",
    "for index in range(len(train_male_data_x)):\n",
    "    element = []\n",
    "    for j in train_male_data_x[index]:\n",
    "        e = j * float(beta1[index])\n",
    "        element.append(e)\n",
    "    new_train_female_data_x.append(element)"
   ]
  },
  {
   "cell_type": "code",
   "execution_count": 77,
   "metadata": {},
   "outputs": [],
   "source": [
    "new_train_female_data_x = []\n",
    "for index in range(len(train_female_data_x)):\n",
    "    element = []\n",
    "    for j in train_mixed_data_x[index]:\n",
    "        e = j * float(beta2[index])\n",
    "        element.append(e)\n",
    "    new_train_mixed_data_x.append(element)"
   ]
  },
  {
   "cell_type": "code",
   "execution_count": 73,
   "metadata": {},
   "outputs": [
    {
     "data": {
      "text/plain": [
       "4204"
      ]
     },
     "execution_count": 73,
     "metadata": {},
     "output_type": "execute_result"
    }
   ],
   "source": [
    "len(beta2)"
   ]
  },
  {
   "cell_type": "code",
   "execution_count": 74,
   "metadata": {},
   "outputs": [
    {
     "data": {
      "text/plain": [
       "11293"
      ]
     },
     "execution_count": 74,
     "metadata": {},
     "output_type": "execute_result"
    }
   ],
   "source": [
    "len(new_train_mixed_data_x)"
   ]
  },
  {
   "cell_type": "code",
   "execution_count": 60,
   "metadata": {},
   "outputs": [],
   "source": [
    "from sklearn.neural_network import MLPRegressor\n",
    "from sklearn import linear_model\n",
    "from sklearn.metrics import mean_squared_error"
   ]
  },
  {
   "cell_type": "code",
   "execution_count": 61,
   "metadata": {},
   "outputs": [
    {
     "data": {
      "text/plain": [
       "7089"
      ]
     },
     "execution_count": 61,
     "metadata": {},
     "output_type": "execute_result"
    }
   ],
   "source": [
    "len(train_mixed_data_y)"
   ]
  },
  {
   "cell_type": "code",
   "execution_count": 62,
   "metadata": {},
   "outputs": [],
   "source": [
    "# mlp regression\n",
    "def mlp_regression(x_train, y_train, x_test):\n",
    "    regr = MLPRegressor(max_iter=800).fit(x_train, y_train)\n",
    "\n",
    "    x_test = np.array(x_test)\n",
    "    y_pred = regr.predict(x_test)\n",
    "    \n",
    "    return y_pred"
   ]
  },
  {
   "cell_type": "code",
   "execution_count": 63,
   "metadata": {},
   "outputs": [],
   "source": [
    "# linear regression\n",
    "def lr_regression(x_train, y_train, x_test):\n",
    "    regr = linear_model.LinearRegression().fit(x_train, y_train)\n",
    "\n",
    "    x_test = np.array(x_test)\n",
    "    y_pred = regr.predict(x_test)\n",
    "    \n",
    "    return y_pred"
   ]
  },
  {
   "cell_type": "code",
   "execution_count": 64,
   "metadata": {},
   "outputs": [
    {
     "name": "stdout",
     "output_type": "stream",
     "text": [
      "93.88531333361057 120.11118941052308\n"
     ]
    }
   ],
   "source": [
    "# male\n",
    "new_train_female_data_x = weighted_data()\n",
    "src_x_train = new_train_female_data_x + new_train_mixed_data_x\n",
    "src_x_train = np.array(src_x_train)\n",
    "src_y_train = train_female_data_y + train_mixed_data_y\n",
    "src_y_train = np.array(src_y_train)\n",
    "y_test = np.array(test_male_data_y)\n",
    "\n",
    "mlp_y_pred = mlp_regression(src_x_train, src_y_train, test_male_data_x)\n",
    "lr_y_pred = lr_regression(src_x_train, src_y_train, test_male_data_x)\n",
    "\n",
    "print(mean_squared_error(y_test, mlp_y_pred), mean_squared_error(y_test, lr_y_pred))"
   ]
  },
  {
   "cell_type": "code",
   "execution_count": 68,
   "metadata": {},
   "outputs": [
    {
     "name": "stdout",
     "output_type": "stream",
     "text": [
      "133.38367222470777 188.27332326627885\n"
     ]
    }
   ],
   "source": [
    "# female\n",
    "new_train_male_data_x = weighted_data(train_male_data_x, beta1)\n",
    "new_train_mixed_data_x = weighted_data(train_mixed_data_x, beta2)\n",
    "src_x_train = new_train_male_data_x + new_train_mixed_data_x\n",
    "src_x_train = np.array(src_x_train)\n",
    "src_y_train = train_male_data_y + train_mixed_data_y\n",
    "src_y_train = np.array(src_y_train)\n",
    "y_test = np.array(test_female_data_y)\n",
    "\n",
    "mlp_y_pred = mlp_regression(src_x_train, src_y_train, test_female_data_x)\n",
    "lr_y_pred = lr_regression(src_x_train, src_y_train, test_female_data_x)\n",
    "\n",
    "print(mean_squared_error(y_test, mlp_y_pred), mean_squared_error(y_test, lr_y_pred))"
   ]
  },
  {
   "cell_type": "code",
   "execution_count": 78,
   "metadata": {},
   "outputs": [
    {
     "name": "stdout",
     "output_type": "stream",
     "text": [
      "140.32051199262486 156.2133370910049\n"
     ]
    }
   ],
   "source": [
    "# mixed\n",
    "new_train_male_data_x = weighted_data(train_male_data_x, beta1)\n",
    "new_train_female_data_x = weighted_data(train_female_data_x, beta2)\n",
    "src_x_train = new_train_male_data_x + new_train_female_data_x\n",
    "src_x_train = np.array(src_x_train)\n",
    "src_y_train = train_male_data_y + train_female_data_y\n",
    "src_y_train = np.array(src_y_train)\n",
    "y_test = np.array(test_mixed_data_y)\n",
    "\n",
    "mlp_y_pred = mlp_regression(src_x_train, src_y_train, test_mixed_data_x)\n",
    "lr_y_pred = lr_regression(src_x_train, src_y_train, test_mixed_data_x)\n",
    "\n",
    "print(mean_squared_error(y_test, mlp_y_pred), mean_squared_error(y_test, lr_y_pred))"
   ]
  },
  {
   "cell_type": "code",
   "execution_count": null,
   "metadata": {},
   "outputs": [],
   "source": []
  }
 ],
 "metadata": {
  "kernelspec": {
   "display_name": "Python 3",
   "language": "python",
   "name": "python3"
  },
  "language_info": {
   "codemirror_mode": {
    "name": "ipython",
    "version": 3
   },
   "file_extension": ".py",
   "mimetype": "text/x-python",
   "name": "python",
   "nbconvert_exporter": "python",
   "pygments_lexer": "ipython3",
   "version": "3.7.6"
  }
 },
 "nbformat": 4,
 "nbformat_minor": 4
}
